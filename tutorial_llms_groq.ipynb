{
  "cells": [
    {
      "cell_type": "code",
      "execution_count": null,
      "id": "92a0111f",
      "metadata": {
        "id": "92a0111f",
        "colab": {
          "base_uri": "https://localhost:8080/"
        },
        "outputId": "00b65ff6-5bee-452b-cf94-d2df7a61e42b"
      },
      "outputs": [
        {
          "output_type": "stream",
          "name": "stdout",
          "text": [
            "Requirement already satisfied: groq in /usr/local/lib/python3.11/dist-packages (0.24.0)\n",
            "Requirement already satisfied: anyio<5,>=3.5.0 in /usr/local/lib/python3.11/dist-packages (from groq) (4.9.0)\n",
            "Requirement already satisfied: distro<2,>=1.7.0 in /usr/local/lib/python3.11/dist-packages (from groq) (1.9.0)\n",
            "Requirement already satisfied: httpx<1,>=0.23.0 in /usr/local/lib/python3.11/dist-packages (from groq) (0.28.1)\n",
            "Requirement already satisfied: pydantic<3,>=1.9.0 in /usr/local/lib/python3.11/dist-packages (from groq) (2.11.4)\n",
            "Requirement already satisfied: sniffio in /usr/local/lib/python3.11/dist-packages (from groq) (1.3.1)\n",
            "Requirement already satisfied: typing-extensions<5,>=4.10 in /usr/local/lib/python3.11/dist-packages (from groq) (4.13.2)\n",
            "Requirement already satisfied: idna>=2.8 in /usr/local/lib/python3.11/dist-packages (from anyio<5,>=3.5.0->groq) (3.10)\n",
            "Requirement already satisfied: certifi in /usr/local/lib/python3.11/dist-packages (from httpx<1,>=0.23.0->groq) (2025.4.26)\n",
            "Requirement already satisfied: httpcore==1.* in /usr/local/lib/python3.11/dist-packages (from httpx<1,>=0.23.0->groq) (1.0.9)\n",
            "Requirement already satisfied: h11>=0.16 in /usr/local/lib/python3.11/dist-packages (from httpcore==1.*->httpx<1,>=0.23.0->groq) (0.16.0)\n",
            "Requirement already satisfied: annotated-types>=0.6.0 in /usr/local/lib/python3.11/dist-packages (from pydantic<3,>=1.9.0->groq) (0.7.0)\n",
            "Requirement already satisfied: pydantic-core==2.33.2 in /usr/local/lib/python3.11/dist-packages (from pydantic<3,>=1.9.0->groq) (2.33.2)\n",
            "Requirement already satisfied: typing-inspection>=0.4.0 in /usr/local/lib/python3.11/dist-packages (from pydantic<3,>=1.9.0->groq) (0.4.0)\n"
          ]
        }
      ],
      "source": [
        "!pip install --upgrade groq"
      ]
    },
    {
      "cell_type": "code",
      "execution_count": null,
      "id": "a005984d",
      "metadata": {
        "id": "a005984d"
      },
      "outputs": [],
      "source": [
        "import os\n",
        "from groq import Groq\n",
        "from google.colab import userdata\n",
        "\n",
        "# Configurar la API Key de Groq (reemplazar con tu clave)\n",
        "GROQ_API_KEY = userdata.get('GROQ_API_KEY')  # <-- Reemplazá con tu clave real\n",
        "client = Groq(api_key=GROQ_API_KEY)\n",
        "\n",
        "modelo = \"llama-3.3-70b-versatile\"\n"
      ]
    },
    {
      "cell_type": "markdown",
      "id": "8bc25ba7",
      "metadata": {
        "id": "8bc25ba7"
      },
      "source": [
        "## 1. Ejemplo básico de un prompt"
      ]
    },
    {
      "cell_type": "code",
      "execution_count": null,
      "id": "f4ff0a58",
      "metadata": {
        "id": "f4ff0a58",
        "colab": {
          "base_uri": "https://localhost:8080/"
        },
        "outputId": "f55fc38d-39a2-4354-811b-37e82e562511"
      },
      "outputs": [
        {
          "output_type": "stream",
          "name": "stdout",
          "text": [
            "La capital de Argentina es Buenos Aires. Buenos Aires es la ciudad más poblada del país y su centro económico, político y cultural. Está ubicada en la costa oriental de Argentina, junto al Río de la Plata, y cuenta con una rica historia, arquitectura variada y una vida nocturna vibrante.\n"
          ]
        }
      ],
      "source": [
        "prompt = \"¿Cuál es la capital de Argentina?\"\n",
        "\n",
        "respuesta = client.chat.completions.create(\n",
        "    model=modelo,\n",
        "    messages=[\n",
        "        {\"role\": \"user\", \"content\": prompt}\n",
        "    ]\n",
        ")\n",
        "\n",
        "print(respuesta.choices[0].message.content)\n"
      ]
    },
    {
      "cell_type": "markdown",
      "id": "2f4ee3ad",
      "metadata": {
        "id": "2f4ee3ad"
      },
      "source": [
        "## 2. Práctica: Límite de tokens"
      ]
    },
    {
      "cell_type": "code",
      "execution_count": null,
      "id": "153b573e",
      "metadata": {
        "id": "153b573e",
        "colab": {
          "base_uri": "https://localhost:8080/"
        },
        "outputId": "d7281944-498e-4ecc-eda0-b0b630c5dbd5"
      },
      "outputs": [
        {
          "output_type": "stream",
          "name": "stdout",
          "text": [
            "\n",
            "--- Máximo de tokens: 50 ---\n",
            "**La Leyenda del Dragón y el Robot**\n",
            "\n",
            "En un mundo lejano, donde la magia y la tecnología coexistían en armonía, había un dragón llamado Tharros que vivía en un valle\n",
            "\n",
            "--- Máximo de tokens: 100 ---\n",
            "**La Aventura de un Dragón y un Robot**\n",
            "\n",
            "En un mundo lejano, donde la tecnología y la magia coexistían en armonía, había un dragón llamado Tharros. Tharros era un dragón majestuoso, con escamas de un brillante color azul y ojos que brillaban como estrellas en la noche. Vivía en una montaña lejana, rodeado de bosques y ríos\n",
            "\n",
            "--- Máximo de tokens: 300 ---\n",
            "**La Epopeya del Dragón y el Robot**\n",
            "\n",
            "En un mundo lejano, donde la tecnología y la magia coexistían en un delicado equilibrio, había un dragón llamado Tharros. Tharros era un ser majestuoso, con escamas de un brillo dorado y ojos que brillaban como estrellas en la noche. Era el guardian de un valle fértil y próspero, donde la naturaleza florecía en armonía con la tecnología.\n",
            "\n",
            "En un rincón lejano del valle, había un laboratorio secreto donde un grupo de científicos trabajaban en un proyecto top-secret. Eran los creadores de un robot llamado Zeta, un ser de acero y circuitos que había sido diseñado para ser el más avanzado de su tipo. Zeta estaba equipado con inteligencia artificial, habilidades de combate y una capacidad para aprender y adaptarse a cualquier situación.\n",
            "\n",
            "Un día, mientras Tharros dormía en su guarida, un terremoto sacudió el valle. El dragón se despertó con un sobresalto, y al mirar a su alrededor, vio que el laboratorio secreto había sido destruido. Entre los escombros, vio a Zeta, el robot, que había sido activado y ahora se encontraba en medio de la\n"
          ]
        }
      ],
      "source": [
        "prompt = \"Contame una historia muy larga sobre un dragón y un robot.\"\n",
        "\n",
        "for max_tokens in [50, 100, 300]:\n",
        "    print(f\"\\n--- Máximo de tokens: {max_tokens} ---\")\n",
        "    respuesta = client.chat.completions.create(\n",
        "        model=modelo,\n",
        "        messages=[{\"role\": \"user\", \"content\": prompt}],\n",
        "        max_tokens=max_tokens\n",
        "    )\n",
        "    print(respuesta.choices[0].message.content)\n"
      ]
    },
    {
      "cell_type": "markdown",
      "id": "c965dc74",
      "metadata": {
        "id": "c965dc74"
      },
      "source": [
        "## 3. Práctica: Uso de temperature"
      ]
    },
    {
      "cell_type": "code",
      "execution_count": null,
      "id": "8383877c",
      "metadata": {
        "id": "8383877c",
        "colab": {
          "base_uri": "https://localhost:8080/"
        },
        "outputId": "09691486-0d06-41ec-8cec-daf81ef9cbc2"
      },
      "outputs": [
        {
          "output_type": "stream",
          "name": "stdout",
          "text": [
            "\n",
            "--- Temperature 0.0 ---\n",
            "...y comenzó a caminar sobre las tejas, sus ojos brillando como estrellas en la oscuridad, mientras el viento susurraba secretos en su oído.\n",
            "\n",
            "--- Temperature 0.3 ---\n",
            "...y comenzó a caminar sobre las tejas, sus ojos brillando como estrellas en la oscuridad, mientras el viento susurraba secretos en su oído.\n",
            "\n",
            "--- Temperature 0.7 ---\n",
            "...y empezó a caminar sobre el techo, sus pasos silenciosos sobre el tejado, como si fuera un fantasma, mientras el mundo dormía y los sueños se mezclaban con la realidad.\n",
            "\n",
            "--- Temperature 1.0 ---\n",
            "...y empezó a contemplar las estrellas, como si las estrellas le estuvieran revelando secretos del universo y del misterio que lo rodeaba.\n",
            "\n",
            "--- Temperature 2.0 ---\n",
            "...y se parechistequieto, reciélasiendo la melodía lejana del reloj de iglesia sonó que tocaba doce.\n"
          ]
        }
      ],
      "source": [
        "prompt = \"Completá la frase: En una noche oscura y silenciosa, el gato se subió al techo y...\"\n",
        "\n",
        "temperaturas = [0.0, 0.3, 0.7, 1.0, 2.0]\n",
        "\n",
        "for temp in temperaturas:\n",
        "    response = client.chat.completions.create(\n",
        "        model=\"llama3-8b-8192\",\n",
        "        messages=[\n",
        "            {\n",
        "                \"role\": \"user\",\n",
        "                \"content\": prompt\n",
        "            }\n",
        "        ],\n",
        "        temperature=temp,\n",
        "        max_tokens=60\n",
        "    )\n",
        "\n",
        "    print(f\"\\n--- Temperature {temp} ---\\n{response.choices[0].message.content}\")"
      ]
    },
    {
      "cell_type": "markdown",
      "id": "b47c99c0",
      "metadata": {
        "id": "b47c99c0"
      },
      "source": [
        "## 4. Práctica: Uso de top-k y top-p"
      ]
    },
    {
      "cell_type": "code",
      "execution_count": null,
      "id": "bff74358",
      "metadata": {
        "id": "bff74358",
        "colab": {
          "base_uri": "https://localhost:8080/"
        },
        "outputId": "117264dc-b524-419c-e650-28b2fbfe6ff2"
      },
      "outputs": [
        {
          "output_type": "stream",
          "name": "stdout",
          "text": [
            "¿Por qué los programadores prefieren las citas en línea?\n",
            "\n",
            "Porque así pueden tener una conexión segura y evitar los errores de sintaxis en la conversación.\n"
          ]
        }
      ],
      "source": [
        "prompt = \"Inventá un chiste corto sobre programadores.\"\n",
        "\n",
        "respuesta = client.chat.completions.create(\n",
        "    model=modelo,\n",
        "    messages=[{\"role\": \"user\", \"content\": prompt}],\n",
        "    top_p=0\n",
        ")\n",
        "print(respuesta.choices[0].message.content)\n"
      ]
    },
    {
      "cell_type": "markdown",
      "id": "19a9b410",
      "metadata": {
        "id": "19a9b410"
      },
      "source": [
        "## 6. Técnicas de prompting"
      ]
    },
    {
      "cell_type": "code",
      "source": [
        "# System prompt\n",
        "response = client.chat.completions.create(\n",
        "    model=\"llama3-8b-8192\",\n",
        "    messages=[\n",
        "        {\n",
        "            \"role\": \"system\",\n",
        "            \"content\": \"Sos un profesor universitario que responde de forma clara, concisa y con ejemplos.\"\n",
        "        },\n",
        "        {\n",
        "            \"role\": \"user\",\n",
        "            \"content\": \"Explicá qué es una red neuronal.\"\n",
        "        }\n",
        "    ]\n",
        ")\n",
        "\n",
        "print(response.choices[0].message.content)\n"
      ],
      "metadata": {
        "id": "9BQFdkQ0asVn",
        "colab": {
          "base_uri": "https://localhost:8080/"
        },
        "outputId": "8466d97c-a843-471a-e426-6aa2821f6fd1"
      },
      "id": "9BQFdkQ0asVn",
      "execution_count": null,
      "outputs": [
        {
          "output_type": "stream",
          "name": "stdout",
          "text": [
            "Excelente pregunta!\n",
            "\n",
            "Una red neuronal, también conocida como red neuronal artificial o AI (Artificial Intelligence), es un modelo matemático inspirado en la estructura y el funcionamiento del cerebro humano. Está compuesta por capas de \"neuronas\" artificiales, que se comunican entre sí a través de \"sinapsis\" virtuales.\n",
            "\n",
            "Cada neurona recibe uno o más ingresos (o \" inputs\") y calcula una salida o \"output\" mediante un proceso llamado \"activación\". Esta salida puede ser utilizado como entrada para otras neuronas, creando un proceso de propagación de señales a lo largo de la red.\n",
            "\n",
            "Las redes neuronales están diseñadas para aprender a partir de datos y mejorar su rendimiento con el tiempo, lo que se conoce como \"aprendizaje automático\". Esto se logra mediante algoritmos de entrenamiento, como backpropagation o gradient descent, que ajustan los pesos y la biases de las conexiones entre las neuronas para minimizar el error y mejorar la precisión.\n",
            "\n",
            "Los ejemplos de aplicaciones de las redes neuronales son variados, como:\n",
            "\n",
            "* Reconocimiento de voz o imagen\n",
            "* Clasificación de textos o categorización de datos\n",
            "* Generación de textos o imágenes\n",
            "* Control de robots o navegación por vehículos autónomos\n",
            "\n",
            "Para visualizarlo, imagina una red neuronal como un gran grafo en el que las neuronas son nodos y las sinapsis son las conexiones entre ellos. Un conjunto de neuronas pueden estar \"prestando atención\" a diferentes características de los datos y combinando sus resultados para producir una salida.\n",
            "\n",
            "Espero que esto te haya ayudado a comprender mejor qué es una red neuronal. ¿Tienes alguna otra pregunta relacionada con este tema?\n"
          ]
        }
      ]
    },
    {
      "cell_type": "code",
      "source": [
        "# Role prompting\n",
        "response = client.chat.completions.create(\n",
        "    model=\"llama3-8b-8192\",\n",
        "    messages=[\n",
        "        {\n",
        "            \"role\": \"user\",\n",
        "            \"content\": \"Actuá como un historiador experto. ¿Cómo afectó la Revolución Francesa al resto del mundo?\"\n",
        "        }\n",
        "    ],\n",
        "    temperature=0,\n",
        ")\n",
        "\n",
        "print(response.choices[0].message.content)\n"
      ],
      "metadata": {
        "id": "ELQHf6R2atYF",
        "colab": {
          "base_uri": "https://localhost:8080/"
        },
        "outputId": "6e8fe2d1-2c89-45ea-cc82-fd2b94d9b597"
      },
      "id": "ELQHf6R2atYF",
      "execution_count": null,
      "outputs": [
        {
          "output_type": "stream",
          "name": "stdout",
          "text": [
            "La Revolución Francesa, que tuvo lugar entre 1789 y 1799, fue un evento que tuvo un impacto significativo en el resto del mundo. Como historiador experto, puedo destacar algunos de los efectos más importantes que se produjeron en diferentes regiones y sociedades.\n",
            "\n",
            "**Europa**\n",
            "\n",
            "La Revolución Francesa inspiró una serie de movimientos revolucionarios en otros países de Europa, como la Revolución Holandesa (1789-1795), la Revolución Irlandesa (1798) y la Revolución Húngara (1848-1849). Estos movimientos buscaban igualdad, libertad y democracia, y muchos de ellos fueron influenciados por las ideas de la Ilustración y la filosofía política de la época.\n",
            "\n",
            "La Revolución Francesa también llevó a la formación de la Primera Coalición, una alianza de monarquías europeas que se unieron para derrotar a Francia y restaurar el orden monárquico. Sin embargo, la coalición fue derrotada en la Guerra de la Primera Coalición (1792-1797) y la Guerra de la Segunda Coalición (1798-1802), lo que permitió a Francia expandir su influencia en Europa.\n",
            "\n",
            "**América Latina**\n",
            "\n",
            "La Revolución Francesa tuvo un impacto significativo en América Latina, donde muchos países estaban luchando por su independencia de España y Portugal. Los líderes independentistas, como Simón Bolívar y José de San Martín, se inspiraron en las ideas de la Revolución Francesa y la Declaración de los Derechos del Hombre y del Ciudadano. La Revolución Francesa también llevó a la creación de la República de Haití, la primera república negra del mundo, liderada por Toussaint Louverture y Jean-Jacques Dessalines.\n",
            "\n",
            "**Oriente Medio y África**\n",
            "\n",
            "La Revolución Francesa también tuvo un impacto en el Oriente Medio y África. La expansión colonial francesa en el siglo XIX se basó en parte en la idea de que Francia estaba llevando la civilización y la libertad a las colonias. Sin embargo, la Revolución Francesa también inspiró movimientos de independencia en países como Egipto, que luchó por su independencia de la ocupación otomana y francesa.\n",
            "\n",
            "**Impacto en la política y la sociedad**\n",
            "\n",
            "La Revolución Francesa también tuvo un impacto significativo en la política y la sociedad en general. La idea de la soberanía popular y la representación democrática se extendió por todo el mundo, y muchos países adoptaron constituciones y sistemas políticos inspirados en la Revolución Francesa. La Revolución también llevó a la creación de nuevos Estados y la reorganización de los sistemas políticos existentes.\n",
            "\n",
            "En resumen, la Revolución Francesa tuvo un impacto significativo en el resto del mundo, inspirando movimientos revolucionarios, cambios políticos y sociales, y la expansión colonial. Su legado sigue siendo importante en la actualidad, y su influencia se puede ver en la política y la sociedad de todo el mundo.\n"
          ]
        }
      ]
    },
    {
      "cell_type": "code",
      "source": [
        "# Contextual prompting\n",
        "contexto = \"La empresa X fabrica bicicletas a motor con diseño ecológico.\"\n",
        "pregunta = \"¿Qué produce la empresa X?\"\n",
        "print(client.chat.completions.create(model=modelo, messages=[{\"role\": \"user\", \"content\": contexto + \"\\n\" + pregunta}]).choices[0].message.content)\n",
        "\n"
      ],
      "metadata": {
        "id": "Sjdo2TdxauZC",
        "colab": {
          "base_uri": "https://localhost:8080/"
        },
        "outputId": "fda27951-37c5-4f72-e1fb-bf52db384261"
      },
      "id": "Sjdo2TdxauZC",
      "execution_count": null,
      "outputs": [
        {
          "output_type": "stream",
          "name": "stdout",
          "text": [
            "La empresa X produce bicicletas a motor con diseño ecológico.\n"
          ]
        }
      ]
    },
    {
      "cell_type": "code",
      "execution_count": null,
      "id": "33b0dace",
      "metadata": {
        "id": "33b0dace",
        "colab": {
          "base_uri": "https://localhost:8080/"
        },
        "outputId": "61cb64a4-feeb-4a3a-dd65-785b5adebbb5"
      },
      "outputs": [
        {
          "output_type": "stream",
          "name": "stdout",
          "text": [
            "El texto se puede clasificar como **positivo**. La palabra \"me encantó\" indica un sentimiento de satisfacción y agrado hacia el producto, lo que sugiere una opinión favorable.\n"
          ]
        }
      ],
      "source": [
        "# Zero-shot\n",
        "print(client.chat.completions.create(model=modelo, messages=[{\"role\": \"user\", \"content\": \"Clasificá el siguiente texto como positivo o negativo: 'Me encantó el producto.'\"}]).choices[0].message.content)\n",
        "\n"
      ]
    },
    {
      "cell_type": "code",
      "source": [
        "# One-shot\n",
        "response = client.chat.completions.create(\n",
        "    model=\"llama3-8b-8192\",\n",
        "    messages=[\n",
        "        {\n",
        "            \"role\": \"system\",\n",
        "            \"content\": \"Sos un asistente que transforma frases informales en versiones formales, manteniendo el mismo significado.\"\n",
        "        },\n",
        "        {\n",
        "            \"role\": \"user\",\n",
        "            \"content\": \"\"\"Ejemplo:\n",
        "Frase informal: Che, ¿me podés dar una mano con esto?\n",
        "Frase formal: ¿Serías tan amable de ayudarme con esto?\n",
        "\n",
        "Nueva frase:\n",
        "Frase informal: Pintó irnos temprano del laburo.\n",
        "Frase formal:\"\"\"\n",
        "        }\n",
        "    ],\n",
        "    temperature=0.3,\n",
        ")\n",
        "\n",
        "print(response.choices[0].message.content)"
      ],
      "metadata": {
        "id": "VTf9us-rapj3",
        "colab": {
          "base_uri": "https://localhost:8080/"
        },
        "outputId": "711e0ae5-fefd-41a1-d978-9f9975a12d35"
      },
      "id": "VTf9us-rapj3",
      "execution_count": null,
      "outputs": [
        {
          "output_type": "stream",
          "name": "stdout",
          "text": [
            "Frase formal: Decidimos partir temprano del trabajo.\n",
            "\n",
            "Nota: La frase informal \"Pintó irnos temprano del laburo\" es un ejemplo de un uso coloquial y relajado del lenguaje, que no es común en la escritura formal. En su lugar, se usaría una frase más formal y gramaticalmente correcta como \"Decidimos partir temprano del trabajo\".\n"
          ]
        }
      ]
    },
    {
      "cell_type": "code",
      "source": [
        "# Few-shot\n",
        "response = client.chat.completions.create(\n",
        "    model=\"llama3-8b-8192\",\n",
        "    messages=[\n",
        "        {\n",
        "            \"role\": \"system\",\n",
        "            \"content\": \"Sos un modelo que clasifica reseñas de películas como POSITIVA, NEUTRAL o NEGATIVA. Respondé solo con la categoría correspondiente.\"\n",
        "        },\n",
        "        {\n",
        "            \"role\": \"user\",\n",
        "            \"content\": \"\"\"Clasificá las siguientes reseñas:\n",
        "Reseña: \"Una obra maestra visual y emocional.\"\n",
        "Sentimiento: POSITIVA\n",
        "\n",
        "Reseña: \"La película fue... meh. Ni buena ni mala, simplemente aburrida.\"\n",
        "Sentimiento: NEUTRAL\n",
        "\n",
        "Reseña: \"No la recomiendo. Mal actuada y con un guion pobre.\"\n",
        "Sentimiento: NEGATIVA\n",
        "\n",
        "Reseña: \"Una experiencia cinematográfica intensa que te deja pensando.\"\n",
        "Sentimiento:\"\"\"\n",
        "        }\n",
        "    ],\n",
        "    temperature=0,\n",
        ")\n",
        "\n",
        "print(response.choices[0].message.content)"
      ],
      "metadata": {
        "id": "QvzpOAeDxQIf",
        "colab": {
          "base_uri": "https://localhost:8080/"
        },
        "outputId": "6102d091-820e-4e62-bf2e-6cd1f25fa855"
      },
      "id": "QvzpOAeDxQIf",
      "execution_count": null,
      "outputs": [
        {
          "output_type": "stream",
          "name": "stdout",
          "text": [
            "POSITIVA\n"
          ]
        }
      ]
    },
    {
      "cell_type": "code",
      "source": [
        "# System, Role and Contextual prompting\n",
        "response = client.chat.completions.create(\n",
        "    model=\"llama3-8b-8192\",\n",
        "    messages=[\n",
        "        {\n",
        "            \"role\": \"system\",\n",
        "            \"content\": \"Sos un profesor de programación que responde con ejemplos simples y claros.\"\n",
        "        },\n",
        "        {\n",
        "            \"role\": \"user\",\n",
        "            \"content\": \"\"\"\n",
        "Actuá como si estuvieras dando una clase de introducción a estudiantes que no saben programar.\n",
        "\n",
        "Contexto:\n",
        "Queremos explicar qué es una variable en Python.\n",
        "\n",
        "Explicá el concepto con un ejemplo.\n",
        "\"\"\"\n",
        "        }\n",
        "    ]\n",
        ")\n",
        "\n",
        "print(response.choices[0].message.content)"
      ],
      "metadata": {
        "id": "4vyyRDqp_QlW",
        "colab": {
          "base_uri": "https://localhost:8080/"
        },
        "outputId": "54f07c38-0ba5-480a-bb0f-e43a361586b8"
      },
      "id": "4vyyRDqp_QlW",
      "execution_count": null,
      "outputs": [
        {
          "output_type": "stream",
          "name": "stdout",
          "text": [
            "¡Hola estudiantes!\n",
            "\n",
            "En este momento, te voy a presentar uno de los conceptos más básicos y fundamentales en programación: las variables. Un estilo de variable en Python es una \"contenedor\" que puede almacenar un valor, que puede ser un número, una palabra, una frase o incluso una estructura más compleja como una lista o un diccionario.\n",
            "\n",
            "Imagina que tienes una caja (un poco como un contenedor para tus pertenencias). Cuando colas algo dentro de la caja, puedes recuperarlo después y utilizarlo. ¡Eso es básicamente lo que hace una variable en Python!\n",
            "\n",
            "Aquí hay un ejemplo simple:\n",
            "```python\n",
            "x = 5\n",
            "print(x)  # Imprimirá \"5\"\n",
            "```\n",
            "En este ejemplo, estamos creando una variable llamada `x` y se le asignamos un valor numérico que es 5. Luego, podemos imprimir el valor de `x` utilizando la función `print()` y se mostrará el número 5.\n",
            "\n",
            "En otras palabras, la variable `x` es un contenedor que almacena el valor 5, y podemos utilizar `x` para acceder a ese valor.\n",
            "\n",
            "Esto es solo el comienzo de nuestro viaje en el mundo de la programación con Python. Mantenme atento y pronto entenderás mucho más sobre cómo utilizar variables y otros conceptos esenciales en programación.\n",
            "\n",
            "¿Tienes alguna pregunta al respecto?\n"
          ]
        }
      ]
    },
    {
      "cell_type": "code",
      "source": [
        "# Step-back prompting\n",
        "# Prompt SIN step-back\n",
        "# sin_stepback = client.chat.completions.create(\n",
        "#     model=\"llama3-8b-8192\",\n",
        "#     messages=[\n",
        "#         {\n",
        "#             \"role\": \"user\",\n",
        "#             \"content\": \"Dame una idea de negocio innovadora para resolver problemas de transporte urbano.\"\n",
        "#         }\n",
        "#     ]\n",
        "# )\n",
        "\n",
        "# print(\"🟡 Resultado SIN Step-back:\\n\")\n",
        "# print(sin_stepback.choices[0].message.content)\n",
        "\n",
        "# Prompt CON step-back prompting\n",
        "con_stepback = client.chat.completions.create(\n",
        "    model=\"llama3-8b-8192\",\n",
        "    messages=[\n",
        "        {\n",
        "            \"role\": \"user\",\n",
        "            \"content\": \"\"\"\n",
        "Antes de darme una idea de negocio, pensá:\n",
        "1. ¿Cuáles son los principales problemas actuales del transporte urbano?\n",
        "2. ¿Qué necesidades no están bien cubiertas?\n",
        "3. ¿Qué soluciones tecnológicas podrían aplicarse?\n",
        "Ahora sí, proponé una idea de negocio innovadora y explicá por qué puede funcionar.\n",
        "\"\"\"\n",
        "        }\n",
        "    ]\n",
        ")\n",
        "\n",
        "print(\"\\n🟢 Resultado CON Step-back:\\n\")\n",
        "print(con_stepback.choices[0].message.content)\n"
      ],
      "metadata": {
        "id": "YfFF6PbaavkI",
        "colab": {
          "base_uri": "https://localhost:8080/"
        },
        "outputId": "4d7f428e-bcb2-443d-8392-7582a8faaa09"
      },
      "id": "YfFF6PbaavkI",
      "execution_count": null,
      "outputs": [
        {
          "output_type": "stream",
          "name": "stdout",
          "text": [
            "\n",
            "🟢 Resultado CON Step-back:\n",
            "\n",
            "Excelente enfoque!Antes de darle una idea de negocio, voy a analizar los problemas actuales del transporte urbano y explorar soluciones tecnológicas.\n",
            "\n",
            "**Problemas actuales del transporte urbano:**\n",
            "\n",
            "1. **Congestión y tráfico**: El aumento de vehículos en las ciudades origina congestiones y demoras en el transporte, lo que afecta la productividad y el tiempo.\n",
            "2. **Emitidos de CO2 y contaminación**: El transporte urbano es una de las principales fuentes de emisiones de dióxido de carbono y gases de efecto invernadero, lo que contribuye al calentamiento global y afecta la calidad del aire.\n",
            "3. **Desincronización entre la oferta y la demanda**: La oferta de transporte público a menudo no se adapta a la demanda real, lo que puede generar esperas y retrasos.\n",
            "4. **Accessible para todos**: Limitaciones para personas con movilidad reducida o discapacidad, lo que puede ser un problema para acceder a servicios y oportunidades.\n",
            "\n",
            "**Necesidades no cubiertas:**\n",
            "\n",
            "1. **Transporte flexible y adaptativo**: Un servicio que se ajuste a la demanda en tiempo real y se adapte a las necesidades de los usuarios.\n",
            "2. **Sostenibilidad y reducción de emisiones**: La necesidad de disminuir la huella de carbono y utilizar fuentes renovables de energía.\n",
            "3. **Accesibilidad y inclusión**: La necesidad de ofrecer opciones de transporte que sean accesibles para todas las personas, incluyendo aquellas con discapacidad.\n",
            "\n",
            "**Soluciones tecnológicas:**\n",
            "\n",
            "1. **Análisis de datos**: La recopilación y análisis de datos en tiempo real para optimizar la oferta de transporte y minimizar las congestiones.\n",
            "2. **Inteligencia Artificial (IA)**: La aplicación de algoritmos de IA para predecir y adaptarse a la demanda, mejorar la eficiencia y reducir costos.\n",
            "3. **Vehículos eléctricos y híbridos**: La transición a vehículos sostenibles que minimicen la huella de carbono.\n",
            "4. **Plataformas de transporte compartido y compartido**: La creación de plataformas para que los usuarios compartan vehículos y reduzcan la cantidad de viajes.\n",
            "\n",
            "**Ideas de negocio innovadora:**\n",
            "\n",
            "**Concepto:** \"SmartFleet\" - una plataforma de transporte compartido y eléctrico que utiliza inteligencia artificial para optimizar la oferta de transporte y reducir la congestión en las ciudades.\n",
            "\n",
            "**Funcionamiento:**\n",
            "\n",
            "1. **App de usuario**: Los usuarios pueden descargar la app y programar trayectos personalizados o compartir vehículos con otros viajeros. La app utiliza IA para predecir la demanda y asignar vehículos de manera óptima.\n",
            "2. **Fleet eléctrico**: El transporte se realizan con vehículos eléctricos y híbridos, reduciendo la huella de carbono y emitindo menos gases de efecto invernadero.\n",
            "3. **Integración con sistemas de tráfico**: La plataforma se integra con sistemas de tráfico para obtener información en tiempo real sobre la congestión y reprogramar los itinerarios para minimizar los retrasos.\n",
            "4. **Servicios de movilidad para personas con discapacidad**: La aplicación utiliza IA para identificar y asignar vehículos adecuados para personas con discapacidad, garantizando una mayor accesibilidad.\n",
            "\n",
            "**Ventajas competitivas:**\n",
            "\n",
            "1. **Reducción de congestión y emisiones**: La plataforma utiliza IA para optimizar la oferta de transporte, reducir la congestión y minimizar los impactos ambientales.\n",
            "2. **Flexibilidad y adaptabilidad**: Los usuarios pueden programar trayectos personalesizados y compartir vehículos con otros viajeros, lo que les da más opciones y flexibilidad.\n",
            "3. **Accesibilidad y inclusión**: La aplicación se enfoca en la accesibilidad y ofrece servicios especializados para personas con discapacidad.\n",
            "\n",
            "En resumen, \"SmartFleet\" es una plataforma innovadora que combina la tecnología de compartir vehículos, la electricidad y la inteligencia artificial para crear un servicio de transporte sostenible, flexible y accesible para todos.\n"
          ]
        }
      ]
    },
    {
      "cell_type": "code",
      "source": [
        "# Chain of Thought (CoT)\n",
        "print(client.chat.completions.create(model=modelo, messages=[{\"role\": \"user\", \"content\": \"Si Juan tiene 3 manzanas y compra 2 más, ¿cuántas tiene ahora? Explicá paso a paso.\"}]).choices[0].message.content)\n",
        "\n"
      ],
      "metadata": {
        "id": "CSJdkcvJawnR"
      },
      "id": "CSJdkcvJawnR",
      "execution_count": null,
      "outputs": []
    },
    {
      "cell_type": "code",
      "source": [
        "# Self-consistency\n",
        "\n",
        "# Prompt con Chain of Thought\n",
        "prompt = \"\"\"Resolvé este problema paso a paso:\n",
        "Si un tren sale de Córdoba a las 8:00 am y viaja a 80 km/h, ¿a qué hora llega a Rosario, que está a 320 km de distancia?\"\"\"\n",
        "\n",
        "respuestas = []\n",
        "\n",
        "# Generamos 5 respuestas diferentes\n",
        "for i in range(5):\n",
        "    res = client.chat.completions.create(\n",
        "        model=\"llama3-8b-8192\",\n",
        "        temperature=0.7,\n",
        "        messages=[{\"role\": \"user\", \"content\": prompt}]\n",
        "    )\n",
        "    respuestas.append(res.choices[0].message.content)\n",
        "\n",
        "# Mostrar todas las respuestas\n",
        "for i, r in enumerate(respuestas, start=1):\n",
        "    print(f\"🔁 Razonamiento {i}:\\n{r}\\n{'-'*60}\")"
      ],
      "metadata": {
        "id": "AFm9WnsAaxeb",
        "colab": {
          "base_uri": "https://localhost:8080/"
        },
        "outputId": "7861b8c5-18d3-4747-ecba-22c144decdd3"
      },
      "id": "AFm9WnsAaxeb",
      "execution_count": null,
      "outputs": [
        {
          "output_type": "stream",
          "name": "stdout",
          "text": [
            "🔁 Razonamiento 1:\n",
            "¡Claro! Vamos a resolver el problema paso a paso.\n",
            "\n",
            "**Paso 1: Conocer la distancia y la velocidad**\n",
            "\n",
            "* La distancia entre Córdoba y Rosario es de 320 km.\n",
            "* La velocidad del tren es de 80 km/h.\n",
            "\n",
            "**Paso 2: Calcular el tiempo de viaje**\n",
            "\n",
            "* Para calcular el tiempo de viaje, podemos usar la fórmula: tiempo = distancia / velocidad.\n",
            "* Reemplazamos los valores conocidos: tiempo = 320 km / 80 km/h = 4 horas.\n",
            "\n",
            "**Paso 3: Calcular la hora de llegada**\n",
            "\n",
            "* El tren sale de Córdoba a las 8:00 am.\n",
            "* El tiempo de viaje es de 4 horas, por lo que necesitamos sumarle 4 horas a la hora de partida para encontrar la hora de llegada.\n",
            "* 8:00 am + 4 horas = 12:00 pm.\n",
            "\n",
            "**Solución**\n",
            "\n",
            "El tren llega a Rosario a las 12:00 pm (mediodía).\n",
            "------------------------------------------------------------\n",
            "🔁 Razonamiento 2:\n",
            "¡Claro! Vamos a resolver el problema paso a paso.\n",
            "\n",
            "1. Primero, debemos encontrar el tiempo que tarda el tren en recorrer la distancia entre Córdoba y Rosario.\n",
            "\n",
            "Tiempo = Distancia / Velocidad\n",
            "\n",
            "Tiempo = 320 km / 80 km/h\n",
            "\n",
            "Tiempo = 4 horas\n",
            "\n",
            "2. Luego, debemos encontrar la hora en que llega el tren a Rosario.\n",
            "\n",
            "La hora de partida es 8:00 am, y el tiempo que tarda el tren en llegar a Rosario es de 4 horas.\n",
            "\n",
            "Hora de llegada = Hora de partida + Tiempo\n",
            "\n",
            "Hora de llegada = 8:00 am + 4 horas\n",
            "\n",
            "Hora de llegada = 12:00 pm\n",
            "\n",
            "Por lo tanto, el tren llega a Rosario a las 12:00 pm.\n",
            "------------------------------------------------------------\n",
            "🔁 Razonamiento 3:\n",
            "¡Claro! Vamos a resolver este problema paso a paso.\n",
            "\n",
            "1. Primero, necesitamos encontrar el tiempo que tarda el tren en cubrir la distancia entre Córdoba y Rosario.\n",
            "\n",
            "Tiempo = Distancia / Velocidad\n",
            "\n",
            "Tiempo = 320 km / 80 km/h\n",
            "\n",
            "Tiempo = 4 horas\n",
            "\n",
            "2. Luego, debemos sumar el tiempo que tarda el tren en cubrir la distancia entre Córdoba y Rosario al tiempo de salida del tren.\n",
            "\n",
            "Tiempo total = Tiempo + Hora de salida\n",
            "= 4 horas + 8:00 am\n",
            "= 12:00 pm\n",
            "\n",
            "Por lo tanto, el tren llega a Rosario a las 12:00 pm.\n",
            "------------------------------------------------------------\n",
            "🔁 Razonamiento 4:\n",
            "¡Claro! Vamos a resolver el problema paso a paso.\n",
            "\n",
            "**Paso 1: Saber la distancia entre Córdoba y Rosario**\n",
            "La distancia entre Córdoba y Rosario es de 320 km.\n",
            "\n",
            "**Paso 2: Saber la velocidad del tren**\n",
            "El tren viaja a una velocidad de 80 km/h.\n",
            "\n",
            "**Paso 3: Calcular el tiempo que tarda el tren en recorrer la distancia**\n",
            "Para calcular el tiempo, podemos utilizar la fórmula: tiempo = distancia / velocidad\n",
            "\n",
            "tiempo = 320 km / 80 km/h = 4 horas\n",
            "\n",
            "**Paso 4: Calcular la hora de llegada**\n",
            "El tren sale de Córdoba a las 8:00 am y tarda 4 horas en llegar a Rosario. Para calcular la hora de llegada, podemos sumar 4 horas a la hora de salida:\n",
            "\n",
            "8:00 am + 4 horas = 12:00 pm\n",
            "\n",
            "**Solución**\n",
            "El tren llega a Rosario a las 12:00 pm (mediodía).\n",
            "------------------------------------------------------------\n",
            "🔁 Razonamiento 5:\n",
            "¡Claro! Vamos a resolver el problema paso a paso.\n",
            "\n",
            "1. Primero, necesitamos calcular el tiempo que tarda el tren en cubrir la distancia entre Córdoba y Rosario. Para hacer esto, podemos dividir la distancia entre la velocidad del tren:\n",
            "\n",
            "Tiempo = Distancia / Velocidad\n",
            "= 320 km / 80 km/h\n",
            "= 4 horas\n",
            "\n",
            "2. Una vez que sabemos el tiempo que tarda el tren en cubrir la distancia, podemos calcular la hora en que llega a Rosario. Para hacer esto, podemos sumar el tiempo de viaje a la hora de salida:\n",
            "\n",
            "Hora de llegada = Hora de salida + Tiempo de viaje\n",
            "= 8:00 am + 4 horas\n",
            "= 12:00 pm\n",
            "\n",
            "Por lo tanto, el tren llega a Rosario a las 12:00 pm.\n",
            "------------------------------------------------------------\n"
          ]
        }
      ]
    },
    {
      "cell_type": "markdown",
      "id": "8a0018db",
      "metadata": {
        "id": "8a0018db"
      },
      "source": [
        "## 7. Generar código en JavaScript"
      ]
    },
    {
      "cell_type": "code",
      "execution_count": null,
      "id": "fdc46072",
      "metadata": {
        "id": "fdc46072",
        "colab": {
          "base_uri": "https://localhost:8080/"
        },
        "outputId": "7a642bf2-058e-4da2-fa08-c0de248d2092"
      },
      "outputs": [
        {
          "output_type": "stream",
          "name": "stdout",
          "text": [
            "```javascript\n",
            "function factorial(n) {\n",
            "  if (n == 0) {\n",
            "    return 1;\n",
            "  } else {\n",
            "    return n * factorial(n-1);\n",
            "  }\n",
            "}\n",
            "\n",
            "console.log(factorial(5));  // Salida: 120\n",
            "```\n"
          ]
        }
      ],
      "source": [
        "prompt = \"Escribí una función en JavaScript que calcule el factorial de un número.\"\n",
        "\n",
        "respuesta = client.chat.completions.create(\n",
        "    model=modelo,\n",
        "    messages=[{\"role\": \"user\", \"content\": prompt}]\n",
        ")\n",
        "print(respuesta.choices[0].message.content)\n"
      ]
    },
    {
      "cell_type": "markdown",
      "id": "3713b23d",
      "metadata": {
        "id": "3713b23d"
      },
      "source": [
        "## 8. Explicar código en Python"
      ]
    },
    {
      "cell_type": "code",
      "execution_count": null,
      "id": "86191097",
      "metadata": {
        "id": "86191097",
        "colab": {
          "base_uri": "https://localhost:8080/"
        },
        "outputId": "33dc8397-3988-4cfb-89c0-a90cd4c1a4de"
      },
      "outputs": [
        {
          "output_type": "stream",
          "name": "stdout",
          "text": [
            "**Función `contar_palabras`**\n",
            "\n",
            "La función `contar_palabras` es una función simple escrita en Python que cuenta el número de palabras en un texto dado.\n",
            "\n",
            "**Código explicado**\n",
            "\n",
            "Aquí hay una descomposición detallada del código:\n",
            "```python\n",
            "def contar_palabras(texto):\n",
            "    # Divide el texto en una lista de palabras\n",
            "    palabras = texto.split()\n",
            "    \n",
            "    # Regresa el número de palabras en la lista\n",
            "    return len(palabras)\n",
            "```\n",
            "**Cómo funciona**\n",
            "\n",
            "1. La función `contar_palabras` recibe un parámetro `texto`, que es la cadena de caracteres que se va a procesar.\n",
            "2. La función utiliza el método `split()` para dividir el texto en una lista de palabras. Por defecto, `split()` divide la cadena en palabras separadas por espacios en blanco.\n",
            "3. La lista de palabras se asigna a la variable `palabras`.\n",
            "4. La función regresa el número de elementos en la lista `palabras` utilizando la función `len()`.\n",
            "\n",
            "**Ejemplo de uso**\n",
            "\n",
            "```python\n",
            "texto = \"Hola, esto es un ejemplo de texto\"\n",
            "numero_de_palabras = contar_palabras(texto)\n",
            "print(f\"El texto tiene {numero_de_palabras} palabras\")\n",
            "```\n",
            "Output:\n",
            "```\n",
            "El texto tiene 8 palabras\n",
            "```\n",
            "**Notas importantes**\n",
            "\n",
            "* La función `contar_palabras` no distingue entre mayúsculas y minúsculas.\n",
            "* La función no ignora la puntuación. Si el texto tiene comas, puntos o otros signos de puntuación, serán tratados como parte de la palabra.\n",
            "* La función no maneja casos especiales, como palabras con acentos o letras especiales. Si se requiere un manejo más avanzado, sería necesario agregar más lógica a la función.\n"
          ]
        }
      ],
      "source": [
        "codigo = '''def contar_palabras(texto):\n",
        "    palabras = texto.split()\n",
        "    return len(palabras)'''\n",
        "\n",
        "prompt = f\"Explicá qué hace este código en Python:\\n\\n{codigo}\"\n",
        "\n",
        "respuesta = client.chat.completions.create(\n",
        "    model=modelo,\n",
        "    messages=[{\"role\": \"user\", \"content\": prompt}]\n",
        ")\n",
        "print(respuesta.choices[0].message.content)\n"
      ]
    },
    {
      "cell_type": "markdown",
      "id": "74291e3a",
      "metadata": {
        "id": "74291e3a"
      },
      "source": [
        "## 9. Traducir de JavaScript a Python"
      ]
    },
    {
      "cell_type": "code",
      "execution_count": null,
      "id": "c9333f97",
      "metadata": {
        "id": "c9333f97",
        "colab": {
          "base_uri": "https://localhost:8080/"
        },
        "outputId": "8f4eb6f7-bcde-4b08-9952-963e5b025821"
      },
      "outputs": [
        {
          "output_type": "stream",
          "name": "stdout",
          "text": [
            "La traducción del código JavaScript a Python sería:\n",
            "\n",
            "```python\n",
            "def sumar(a, b):\n",
            "    return a + b\n",
            "```\n",
            "\n",
            "En este código:\n",
            "\n",
            "- `function` se reemplaza por `def`, que es la palabra clave para definir una función en Python.\n",
            "- La sintaxis para definir la función es similar, con el nombre de la función (`sumar`) seguido de los parámetros entre paréntesis (`a, b`).\n",
            "- El `return` se utiliza de la misma manera para retornar el resultado de la suma.\n",
            "- Los corchetes `{}` se reemplazan por indentación, que es la forma en que Python indica el bloque de código dentro de una función o estructura de control.\n"
          ]
        }
      ],
      "source": [
        "js_code = \"function sumar(a, b) { return a + b; }\"\n",
        "prompt = f\"Traducí este código JavaScript a Python:\\n\\n{js_code}\"\n",
        "\n",
        "respuesta = client.chat.completions.create(\n",
        "    model=modelo,\n",
        "    messages=[{\"role\": \"user\", \"content\": prompt}]\n",
        ")\n",
        "print(respuesta.choices[0].message.content)\n"
      ]
    },
    {
      "cell_type": "markdown",
      "id": "69e9d8bc",
      "metadata": {
        "id": "69e9d8bc"
      },
      "source": [
        "## 10. Devolver JSON con schema"
      ]
    },
    {
      "cell_type": "code",
      "execution_count": null,
      "id": "9cff904f",
      "metadata": {
        "id": "9cff904f",
        "colab": {
          "base_uri": "https://localhost:8080/"
        },
        "outputId": "d87f97cd-d6a2-4445-8293-8d6d96993411"
      },
      "outputs": [
        {
          "output_type": "stream",
          "name": "stdout",
          "text": [
            "A continuación, te presento un ejemplo de un producto que cumple con el schema JSON proporcionado:\n",
            "\n",
            "```json\n",
            "{\n",
            "  \"nombre\": \"Smartphone Xiaomi\",\n",
            "  \"precio\": 299.99,\n",
            "  \"stock\": 100,\n",
            "  \"categoria\": \"Electrónicos\"\n",
            "}\n",
            "```\n",
            "\n",
            "Este producto cumple con todos los requisitos establecidos en el schema:\n",
            "\n",
            "* `nombre`: es una cadena de texto que representa el nombre del producto.\n",
            "* `precio`: es un número decimal que representa el precio del producto.\n",
            "* `stock`: es un número entero que representa la cantidad de unidades disponibles en stock.\n",
            "* `categoria`: es una cadena de texto que representa la categoría del producto.\n",
            "\n",
            "Es importante destacar que el schema JSON especifica que todos estos campos son obligatorios (`required`), por lo que cualquier producto que se genere debe incluir estos cuatro campos.\n"
          ]
        }
      ],
      "source": [
        "schema = {\n",
        "  \"type\": \"object\",\n",
        "  \"properties\": {\n",
        "    \"nombre\": {\"type\": \"string\"},\n",
        "    \"precio\": {\"type\": \"number\"},\n",
        "    \"stock\": {\"type\": \"integer\"},\n",
        "    \"categoria\": {\"type\": \"string\"}\n",
        "  },\n",
        "  \"required\": [\"nombre\", \"precio\", \"stock\", \"categoria\"]\n",
        "}\n",
        "\n",
        "prompt = f\"Generá un producto de ejemplo que cumpla con este schema JSON:\\n\\n{schema}\"\n",
        "\n",
        "respuesta = client.chat.completions.create(\n",
        "    model=modelo,\n",
        "    messages=[{\"role\": \"user\", \"content\": prompt}]\n",
        ")\n",
        "print(respuesta.choices[0].message.content)\n"
      ]
    }
  ],
  "metadata": {
    "colab": {
      "provenance": []
    },
    "language_info": {
      "name": "python"
    },
    "kernelspec": {
      "name": "python3",
      "display_name": "Python 3"
    }
  },
  "nbformat": 4,
  "nbformat_minor": 5
}